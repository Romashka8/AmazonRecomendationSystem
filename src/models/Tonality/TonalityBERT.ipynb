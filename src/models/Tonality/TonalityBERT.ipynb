{
  "nbformat": 4,
  "nbformat_minor": 0,
  "metadata": {
    "colab": {
      "provenance": [],
      "gpuType": "T4"
    },
    "kernelspec": {
      "name": "python3",
      "display_name": "Python 3"
    },
    "language_info": {
      "name": "python"
    },
    "accelerator": "GPU"
  },
  "cells": [
    {
      "cell_type": "code",
      "execution_count": 1,
      "metadata": {
        "id": "V-ngcQzlwKQu"
      },
      "outputs": [],
      "source": [
        "import warnings\n",
        "\n",
        "warnings.filterwarnings('ignore')\n",
        "\n",
        "import tqdm\n",
        "import os\n",
        "\n",
        "import numpy as np\n",
        "import pandas as pd\n",
        "\n",
        "import torch\n",
        "import transformers as ppb"
      ]
    },
    {
      "cell_type": "markdown",
      "source": [
        "# Подготовим и посмотрим данные"
      ],
      "metadata": {
        "id": "qhHSBmDmw0my"
      }
    },
    {
      "cell_type": "code",
      "source": [
        "# в репозитории архив находится тут: https://github.com/Romashka8/AmazonRecomendationSystem/tree/main/data/raw/tonality\n",
        "# загрузим его с другого github-а - https://github.com/clairett/pytorch-sentiment-classification/raw/master/data/SST2/train.tsv\n",
        "df = pd.read_csv('https://github.com/clairett/pytorch-sentiment-classification/raw/master/data/SST2/train.tsv', delimiter='\\t', header=None)"
      ],
      "metadata": {
        "id": "6SwL-dRjw5BV"
      },
      "execution_count": 2,
      "outputs": []
    },
    {
      "cell_type": "code",
      "source": [
        "batches = [\n",
        "    df[:2000],\n",
        "    df[2000:4000],\n",
        "    df[4000:]\n",
        "]"
      ],
      "metadata": {
        "id": "7-27cDZ_xMLN"
      },
      "execution_count": 3,
      "outputs": []
    },
    {
      "cell_type": "code",
      "source": [
        "df.shape"
      ],
      "metadata": {
        "colab": {
          "base_uri": "https://localhost:8080/"
        },
        "id": "X_hmLZpBxvy4",
        "outputId": "065c7af1-b184-4f86-c23d-5650b80f4038"
      },
      "execution_count": 4,
      "outputs": [
        {
          "output_type": "execute_result",
          "data": {
            "text/plain": [
              "(6920, 2)"
            ]
          },
          "metadata": {},
          "execution_count": 4
        }
      ]
    },
    {
      "cell_type": "code",
      "source": [
        "df.info(memory_usage='deep')"
      ],
      "metadata": {
        "colab": {
          "base_uri": "https://localhost:8080/"
        },
        "id": "DOS0ho0tyS6s",
        "outputId": "c5af4fa9-294f-4ae8-f178-c9d6fd266d75"
      },
      "execution_count": 5,
      "outputs": [
        {
          "output_type": "stream",
          "name": "stdout",
          "text": [
            "<class 'pandas.core.frame.DataFrame'>\n",
            "RangeIndex: 6920 entries, 0 to 6919\n",
            "Data columns (total 2 columns):\n",
            " #   Column  Non-Null Count  Dtype \n",
            "---  ------  --------------  ----- \n",
            " 0   0       6920 non-null   object\n",
            " 1   1       6920 non-null   int64 \n",
            "dtypes: int64(1), object(1)\n",
            "memory usage: 1.1 MB\n"
          ]
        }
      ]
    },
    {
      "cell_type": "code",
      "source": [
        "for b in batches:\n",
        "  print(b.shape)"
      ],
      "metadata": {
        "colab": {
          "base_uri": "https://localhost:8080/"
        },
        "id": "Oi2pjYXAHeT7",
        "outputId": "aa3c8c16-e79b-4d1a-91aa-accaab6afad5"
      },
      "execution_count": 6,
      "outputs": [
        {
          "output_type": "stream",
          "name": "stdout",
          "text": [
            "(2000, 2)\n",
            "(2000, 2)\n",
            "(2920, 2)\n"
          ]
        }
      ]
    },
    {
      "cell_type": "markdown",
      "source": [
        "# Подготовим Эмбединги"
      ],
      "metadata": {
        "id": "UZ5gz_sC9dTa"
      }
    },
    {
      "cell_type": "code",
      "source": [
        "# Выберем, на каком процессоре будем учить модель\n",
        "device = 'cuda' if torch.cuda.is_available() else 'cpu'\n",
        "device"
      ],
      "metadata": {
        "colab": {
          "base_uri": "https://localhost:8080/",
          "height": 35
        },
        "id": "4k_rekFum-XC",
        "outputId": "d3f17ba2-4b51-4f00-f484-67056231e0f5"
      },
      "execution_count": 8,
      "outputs": [
        {
          "output_type": "execute_result",
          "data": {
            "text/plain": [
              "'cuda'"
            ],
            "application/vnd.google.colaboratory.intrinsic+json": {
              "type": "string"
            }
          },
          "metadata": {},
          "execution_count": 8
        }
      ]
    },
    {
      "cell_type": "code",
      "source": [
        "# Загрузим distil-bert и его токенайзер\n",
        "model_name = 'distilbert-base-uncased'\n",
        "tokenizer = ppb.AutoTokenizer.from_pretrained(model_name)\n",
        "bert_model = ppb.AutoModel.from_pretrained(model_name)"
      ],
      "metadata": {
        "id": "61JStechHFeM"
      },
      "execution_count": 9,
      "outputs": []
    },
    {
      "cell_type": "code",
      "source": [
        "os.path.exists('/content/drive/MyDrive/colab_data')\n",
        "\n",
        "if not os.path.exists('/content/drive/MyDrive/colab_data/TonalityBERTStates'):\n",
        "  os.mkdir('/content/drive/MyDrive/colab_data/TonalityBERTStates')"
      ],
      "metadata": {
        "id": "4jQezPBxv9dd"
      },
      "execution_count": 10,
      "outputs": []
    },
    {
      "cell_type": "code",
      "source": [
        "save_path = '/content/drive/MyDrive/colab_data/TonalityBERTStates'\n",
        "start_from_epoch = 0\n",
        "end_on_epoch = 4\n",
        "epoch = 0\n",
        "\n",
        "# Прогоняем данные через модель\n",
        "loop = tqdm.tqdm(batches, leave=False)\n",
        "\n",
        "for batch in loop:\n",
        "\n",
        "    if start_from_epoch <= epoch < end_on_epoch:\n",
        "      # Токенизация батча\n",
        "      tokenized = batch[0].apply((lambda x: tokenizer.encode(x, add_special_tokens=True)))\n",
        "\n",
        "      max_len = 0\n",
        "      for i in tokenized.values:\n",
        "        if len(i) > max_len:\n",
        "          max_len = len(i)\n",
        "\n",
        "      padded = np.array([i + [0] * (max_len - len(i)) for i in tokenized.values])\n",
        "      attention_mask = np.where(padded != 0, 1, 0)\n",
        "\n",
        "      input_ids = torch.tensor(padded)\n",
        "      attention_mask = torch.tensor(attention_mask)\n",
        "\n",
        "      with torch.no_grad():\n",
        "        last_hidden_states = bert_model(input_ids, attention_mask=attention_mask)\n",
        "\n",
        "      # Извлечение эмбеддингов последнего скрытого слоя\n",
        "      features = last_hidden_states[0][:, 0, :].numpy()\n",
        "\n",
        "      # Сохраним эмбединг\n",
        "      pd.concat(\n",
        "          [\n",
        "            pd.DataFrame(features),\n",
        "            pd.DataFrame(batch[1].values, columns=['target'])\n",
        "          ], axis=1\n",
        "        ).to_csv(os.path.join(save_path, f'state_epoch_{epoch}.csv'))\n",
        "\n",
        "      epoch += 1\n",
        "\n",
        "    else:\n",
        "      print('All bathes embeded!')\n",
        "      break"
      ],
      "metadata": {
        "colab": {
          "base_uri": "https://localhost:8080/"
        },
        "id": "V3ciob3U9i-O",
        "outputId": "bcbcf17b-ce82-4866-cdcd-32f6512f0eb1"
      },
      "execution_count": 11,
      "outputs": [
        {
          "output_type": "stream",
          "name": "stderr",
          "text": []
        }
      ]
    },
    {
      "cell_type": "markdown",
      "source": [
        "# Сохраним файлы"
      ],
      "metadata": {
        "id": "Kdng8u1d3q1t"
      }
    },
    {
      "cell_type": "code",
      "source": [
        "from google.colab import drive\n",
        "drive.mount('/content/drive')"
      ],
      "metadata": {
        "colab": {
          "base_uri": "https://localhost:8080/"
        },
        "id": "_EnYCt6-3iDY",
        "outputId": "f08b6ac7-7113-4711-a231-7cb3ce6c828d"
      },
      "execution_count": null,
      "outputs": [
        {
          "output_type": "stream",
          "name": "stdout",
          "text": [
            "Drive already mounted at /content/drive; to attempt to forcibly remount, call drive.mount(\"/content/drive\", force_remount=True).\n"
          ]
        }
      ]
    },
    {
      "cell_type": "code",
      "source": [
        "%cd /content/drive/MyDrive/colab_data"
      ],
      "metadata": {
        "colab": {
          "base_uri": "https://localhost:8080/"
        },
        "id": "KRP3FNVs3uwc",
        "outputId": "4c29ebb2-0bbc-427f-e230-543381cd110c"
      },
      "execution_count": 12,
      "outputs": [
        {
          "output_type": "stream",
          "name": "stdout",
          "text": [
            "/content/drive/MyDrive/colab_data\n"
          ]
        }
      ]
    },
    {
      "cell_type": "code",
      "source": [
        "! zip -r TonalityBERTStates.zip TonalityBERTStates/"
      ],
      "metadata": {
        "colab": {
          "base_uri": "https://localhost:8080/"
        },
        "id": "fAwZuQHZ35q1",
        "outputId": "91b45800-05e7-4460-afb6-36afcbf929c4"
      },
      "execution_count": 13,
      "outputs": [
        {
          "output_type": "stream",
          "name": "stdout",
          "text": [
            "  adding: TonalityBERTStates/ (stored 0%)\n",
            "  adding: TonalityBERTStates/state_epoch_0.csv (deflated 59%)\n",
            "  adding: TonalityBERTStates/state_epoch_1.csv (deflated 59%)\n",
            "  adding: TonalityBERTStates/state_epoch_2.csv (deflated 59%)\n"
          ]
        }
      ]
    },
    {
      "cell_type": "code",
      "source": [
        "from google.colab import files\n",
        "files.download('TonalityBERTStates.zip')"
      ],
      "metadata": {
        "colab": {
          "base_uri": "https://localhost:8080/",
          "height": 17
        },
        "id": "LjuTplBj4zWf",
        "outputId": "11929e45-8d4f-4bdb-8631-40e5f235cc95"
      },
      "execution_count": 14,
      "outputs": [
        {
          "output_type": "display_data",
          "data": {
            "text/plain": [
              "<IPython.core.display.Javascript object>"
            ],
            "application/javascript": [
              "\n",
              "    async function download(id, filename, size) {\n",
              "      if (!google.colab.kernel.accessAllowed) {\n",
              "        return;\n",
              "      }\n",
              "      const div = document.createElement('div');\n",
              "      const label = document.createElement('label');\n",
              "      label.textContent = `Downloading \"${filename}\": `;\n",
              "      div.appendChild(label);\n",
              "      const progress = document.createElement('progress');\n",
              "      progress.max = size;\n",
              "      div.appendChild(progress);\n",
              "      document.body.appendChild(div);\n",
              "\n",
              "      const buffers = [];\n",
              "      let downloaded = 0;\n",
              "\n",
              "      const channel = await google.colab.kernel.comms.open(id);\n",
              "      // Send a message to notify the kernel that we're ready.\n",
              "      channel.send({})\n",
              "\n",
              "      for await (const message of channel.messages) {\n",
              "        // Send a message to notify the kernel that we're ready.\n",
              "        channel.send({})\n",
              "        if (message.buffers) {\n",
              "          for (const buffer of message.buffers) {\n",
              "            buffers.push(buffer);\n",
              "            downloaded += buffer.byteLength;\n",
              "            progress.value = downloaded;\n",
              "          }\n",
              "        }\n",
              "      }\n",
              "      const blob = new Blob(buffers, {type: 'application/binary'});\n",
              "      const a = document.createElement('a');\n",
              "      a.href = window.URL.createObjectURL(blob);\n",
              "      a.download = filename;\n",
              "      div.appendChild(a);\n",
              "      a.click();\n",
              "      div.remove();\n",
              "    }\n",
              "  "
            ]
          },
          "metadata": {}
        },
        {
          "output_type": "display_data",
          "data": {
            "text/plain": [
              "<IPython.core.display.Javascript object>"
            ],
            "application/javascript": [
              "download(\"download_5499b568-c7d0-4870-acbe-1cf47d18be67\", \"TonalityBERTStates.zip\", 25495087)"
            ]
          },
          "metadata": {}
        }
      ]
    }
  ]
}