{
 "cells": [
  {
   "cell_type": "code",
   "execution_count": 1,
   "id": "fd891ce8-1e29-4491-8575-11d236659fd5",
   "metadata": {},
   "outputs": [],
   "source": [
    "from warnings import filterwarnings\n",
    "filterwarnings('ignore')\n",
    "\n",
    "import pandas as pd\n",
    "import numpy as np\n",
    "\n",
    "from typing import Optional\n",
    "\n",
    "import os\n",
    "\n",
    "from dataloader import AllBeautyLoader"
   ]
  },
  {
   "cell_type": "markdown",
   "id": "a19ce2fb-aafb-4161-803b-baeea1516337",
   "metadata": {},
   "source": [
    "<b>check_features</b> - автоматизация интересующего нас EDA выборок из Amazon: AllBeauty.\n",
    "<ul>\n",
    "   Мы фиксируем желаемый размер выборки и семя случайной генерации и смотрим на:\n",
    "    <li>Распределение оценок товаров в выборке</li>\n",
    "    <li>Распределение факта покупки товара в выборке</li>\n",
    "</ul>\n",
    "Устраивает нас распределение или нет мы решаем при помощи искуственно заданного распределения(по умлчанию - равномерное) и по допустимому отклонению двух фактических статистик от этого распределения(eps_1 и eps_2). Результат анализа сохраняем в excel."
   ]
  },
  {
   "cell_type": "code",
   "execution_count": 2,
   "id": "d8f91b6c-3c57-4284-8a11-56f9587905a3",
   "metadata": {},
   "outputs": [],
   "source": [
    "# Идея - автоматизировать просмотр выборок\n",
    "# uniform +- epsilon\n",
    "def check_features(\n",
    "        input_path: str, seeds: list[int],\n",
    "        sizes: list[int], save: Optional[str]=None,\n",
    "        dist: str='uniform', eps_1: float=0.05, eps_2: float=0.05):\n",
    "\n",
    "    if not os.path.exists(input_path):\n",
    "        raise ValueError('input_path не существует!')\n",
    "    \n",
    "    hist = [] if save else None\n",
    "    \n",
    "    # возвращает требуемый балланс(распределение) классов в выборке\n",
    "    # [('rating'), ('verified_purchase')]\n",
    "    distributions = {\n",
    "        'uniform': [np.array([0.2, 0.2, 0.2, 0.2, 0.2]), np.array([0.5, 0.5])]\n",
    "    }\n",
    "\n",
    "    d = distributions[dist]\n",
    "    \n",
    "    for seed in seeds:\n",
    "        for size in sizes:\n",
    "            res = 0\n",
    "            loader = AllBeautyLoader(input_path, sample_size=size, seed=seed)\n",
    "            sample = loader.get_sample()\n",
    "            all_stats = pd.DataFrame(sample[['rating', 'verified_purchase']].value_counts())\n",
    "            r_stats = sample['rating'].value_counts().sort_index().values / size\n",
    "            p_stats = sample['verified_purchase'].value_counts().sort_index().values / size\n",
    "            try:\n",
    "                if (np.abs(d[0] - r_stats) < eps_1).all() or (np.abs(d[1] - p_stats) < eps_2).all():\n",
    "                    print('Dist: ', f'rating - {r_stats}, ', f'verified_purchase - {p_stats}')\n",
    "                    print('Seed: ', seed)\n",
    "                    print('Size: ', size)\n",
    "                    res = 1\n",
    "            except:\n",
    "                print('Плохая выборка!')\n",
    "                print('Dist: ', f'rating - {r_stats}, ', f'verified_purchase - {p_stats}')\n",
    "                print('Seed: ', seed)\n",
    "                print('Size: ', size)\n",
    "            if hist is not None:\n",
    "                raw = [r_stats, p_stats, seed, size, res]\n",
    "                rating_raw = pd.DataFrame(raw[0].reshape(-1, 5), columns=['Rating 1', 'Rating 2', 'Rating 3', 'Rating 4', 'Rating 5'])\n",
    "                purchase_raw = pd.DataFrame(raw[1].reshape(-1, 2), columns=['Verified purchase 0', 'Verified purchase 1'])\n",
    "                seed_raw = pd.DataFrame([raw[2]], columns=['Seed'])\n",
    "                size_raw = pd.DataFrame([raw[3]], columns=['Size'])\n",
    "                res_raw = pd.DataFrame([raw[4]], columns=['Criterion result'])\n",
    "                hist.append(pd.concat([\n",
    "                    rating_raw, purchase_raw, seed_raw, size_raw, res_raw\n",
    "                ], axis=1))\n",
    "                \n",
    "    if hist is not None:\n",
    "        hist_excel = hist[0]\n",
    "        for h in hist[1:]:\n",
    "            hist_excel = pd.concat([hist_excel, h], axis=0)\n",
    "        hist_excel.to_excel(save, index=False)\n",
    "    return"
   ]
  },
  {
   "cell_type": "code",
   "execution_count": 3,
   "id": "c27ff958-ea4e-4920-a203-212810ebd58f",
   "metadata": {},
   "outputs": [],
   "source": [
    "# задаем исследуемые сиды и размеры выборок\n",
    "seeds = [i for i in range(1)]\n",
    "sizes = [100, 200]"
   ]
  },
  {
   "cell_type": "code",
   "execution_count": 4,
   "id": "01391d93-6e08-457b-926e-3176778cd66a",
   "metadata": {},
   "outputs": [],
   "source": [
    "# задаем распределения и допустимые отклонения\n",
    "dist = 'uniform'\n",
    "eps_1, eps_2 = 0.1, 0.1"
   ]
  },
  {
   "cell_type": "code",
   "execution_count": 5,
   "id": "90229ebd-0ed9-49df-b54b-468302f5054e",
   "metadata": {},
   "outputs": [],
   "source": [
    "# настройка путей\n",
    "input_path = '/home/roman/Документы/AmazonRecomendationSystem/data/raw/all_beauty/All_Beauty.jsonl'\n",
    "output_path = os.path.join(os.getcwd(), f'sample_stats(dist_{dist}_eps_1_{eps_1}_eps_2_{eps_2}).xlsx')"
   ]
  },
  {
   "cell_type": "code",
   "execution_count": 6,
   "id": "5e0385a5-4419-4208-9704-4d3547003a5a",
   "metadata": {},
   "outputs": [
    {
     "name": "stderr",
     "output_type": "stream",
     "text": [
      "Загрузка данных: 100%|█████████████████████| 100/100 [00:00<00:00, 89316.52it/s]\n",
      "Загрузка данных: 100%|██████████████████████| 200/200 [00:00<00:00, 9499.69it/s]\n"
     ]
    }
   ],
   "source": [
    "# запускаем сбор статистики\n",
    "check_features(\n",
    "    input_path=input_path, seeds=seeds,\n",
    "    sizes=sizes, save=output_path,\n",
    "    dist=dist, eps_1=eps_1, eps_2=eps_2\n",
    ")"
   ]
  }
 ],
 "metadata": {
  "kernelspec": {
   "display_name": "Python 3 (ipykernel)",
   "language": "python",
   "name": "python3"
  },
  "language_info": {
   "codemirror_mode": {
    "name": "ipython",
    "version": 3
   },
   "file_extension": ".py",
   "mimetype": "text/x-python",
   "name": "python",
   "nbconvert_exporter": "python",
   "pygments_lexer": "ipython3",
   "version": "3.10.12"
  }
 },
 "nbformat": 4,
 "nbformat_minor": 5
}
