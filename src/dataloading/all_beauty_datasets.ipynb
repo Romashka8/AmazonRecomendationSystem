{
 "cells": [
  {
   "cell_type": "code",
   "execution_count": 1,
   "id": "4d4545ea-1846-4c5b-be12-2a57d3272b41",
   "metadata": {},
   "outputs": [],
   "source": [
    "from warnings import filterwarnings\n",
    "filterwarnings('ignore')\n",
    "\n",
    "import os\n",
    "\n",
    "import pandas as pd\n",
    "\n",
    "from torch.utils.data import Dataset\n",
    "\n",
    "from dataloader import AllBeautyLoader"
   ]
  },
  {
   "cell_type": "markdown",
   "id": "d31837c7-2b05-4f66-b172-2dcee0a0898e",
   "metadata": {},
   "source": [
    "# AllBeauty для BERT"
   ]
  },
  {
   "cell_type": "markdown",
   "id": "75a74690-c6c2-45f3-9e05-38b1f2fadb8b",
   "metadata": {},
   "source": [
    "<b>Особый класс датасета</b> нужен для его удобного дальнейшего использования при подготовке моделей на базе BERT"
   ]
  },
  {
   "cell_type": "code",
   "execution_count": 2,
   "id": "dabcd3e6-34ab-4bca-a1c9-15b333387846",
   "metadata": {},
   "outputs": [],
   "source": [
    "# AllBeauty for BERT\n",
    "class AllBeautyBERTDataset(Dataset):\n",
    "    def __init__(self, path: str, file_format: str):\n",
    "        \"\"\"\n",
    "        path: Путь к файлу с данными. Это строка вида '/home/user/docs/filename.csv'\n",
    "        file_format: Формат входного файла. Должен быть либо 'csv', либо 'xlsx' \n",
    "        \"\"\"\n",
    "\n",
    "        self._allowed_formats = ('csv', 'xlsx')\n",
    "        self._form_df = {\n",
    "            'xlsx': pd.read_excel,\n",
    "            'csv': pd.read_csv\n",
    "        }\n",
    "        \n",
    "        if not (isinstance(path, str) and os.path.exists(path)):\n",
    "            raise ValueError('Path must be a string and path must exists!')\n",
    "\n",
    "        if not (isinstance(file_format, str) and file_format in self._allowed_formats):\n",
    "            raise ValueError(f'File format must be a string and must be one of the next type: {self._allowed_formats}')\n",
    "\n",
    "        self.df = self._form_df[file_format](path)\n",
    "        self.size = self.df.shape\n",
    "        \n",
    "    def __len__(self):\n",
    "        return self.size[0]\n",
    "\n",
    "    def __getitem__(self, index: int):\n",
    "        if not (isinstance(index, int) and 0 <= index < self.size[0]):\n",
    "            raise ValueError(f'Index must be ab integer and must be lay in [0; {self.size[0]})')\n",
    "\n",
    "        return self.df.loc[index]"
   ]
  },
  {
   "cell_type": "markdown",
   "id": "73bc3b85-1fad-4cf5-a7e6-19f843d2d1c5",
   "metadata": {},
   "source": [
    "# Пример создания датасета AllBeauty для BERT-а"
   ]
  },
  {
   "cell_type": "code",
   "execution_count": 3,
   "id": "214215ad-6f4e-4995-bf7a-c356cd434ea4",
   "metadata": {},
   "outputs": [],
   "source": [
    "# настроим пути входящих и выходящих файлов\n",
    "input_path = '/home/roman/Документы/AmazonRecomendationSystem/data/raw/all_beauty/All_Beauty.jsonl'\n",
    "output_path = os.getcwd()"
   ]
  },
  {
   "cell_type": "code",
   "execution_count": 4,
   "id": "c6602297-cb41-414c-acd8-143cb33d152b",
   "metadata": {},
   "outputs": [],
   "source": [
    "# Создаем экземпляр класса, укажем свой размер выборки и свое семя случайной генерации\n",
    "loader = AllBeautyLoader(input_path, sample_size=1000, seed=12)"
   ]
  },
  {
   "cell_type": "code",
   "execution_count": 5,
   "id": "9faaf7f9-47a4-4e8b-bcf6-d25b12b80e5b",
   "metadata": {},
   "outputs": [
    {
     "name": "stderr",
     "output_type": "stream",
     "text": [
      "Загрузка данных: 100%|███████████████████| 1000/1000 [00:00<00:00, 24770.29it/s]\n"
     ]
    },
    {
     "data": {
      "text/html": [
       "<div>\n",
       "<style scoped>\n",
       "    .dataframe tbody tr th:only-of-type {\n",
       "        vertical-align: middle;\n",
       "    }\n",
       "\n",
       "    .dataframe tbody tr th {\n",
       "        vertical-align: top;\n",
       "    }\n",
       "\n",
       "    .dataframe thead th {\n",
       "        text-align: right;\n",
       "    }\n",
       "</style>\n",
       "<table border=\"1\" class=\"dataframe\">\n",
       "  <thead>\n",
       "    <tr style=\"text-align: right;\">\n",
       "      <th></th>\n",
       "      <th>rating</th>\n",
       "      <th>title</th>\n",
       "      <th>text</th>\n",
       "      <th>asin</th>\n",
       "      <th>parent_asin</th>\n",
       "      <th>user_id</th>\n",
       "      <th>timestamp</th>\n",
       "      <th>helpful_vote</th>\n",
       "      <th>verified_purchase</th>\n",
       "    </tr>\n",
       "  </thead>\n",
       "  <tbody>\n",
       "    <tr>\n",
       "      <th>472907</th>\n",
       "      <td>5.0</td>\n",
       "      <td>Worth the money- don’t go cheap- for serious u...</td>\n",
       "      <td>Love this brush after so many that were not wo...</td>\n",
       "      <td>B075B3M8F4</td>\n",
       "      <td>B075B3M8F4</td>\n",
       "      <td>AFTRHI7BZD35G7ZFDF5HWXV5OPEQ</td>\n",
       "      <td>1582230773060</td>\n",
       "      <td>1</td>\n",
       "      <td>True</td>\n",
       "    </tr>\n",
       "    <tr>\n",
       "      <th>255366</th>\n",
       "      <td>5.0</td>\n",
       "      <td>Nice eye cream.</td>\n",
       "      <td>I'm not seeing my wrinkles evaporate but it so...</td>\n",
       "      <td>B00N996X4G</td>\n",
       "      <td>B00N996X4G</td>\n",
       "      <td>AETK7DFLGHKINK5CS5ISOCTHVZPQ</td>\n",
       "      <td>1460144590000</td>\n",
       "      <td>0</td>\n",
       "      <td>True</td>\n",
       "    </tr>\n",
       "    <tr>\n",
       "      <th>412925</th>\n",
       "      <td>5.0</td>\n",
       "      <td>Keep supplying my hair product.</td>\n",
       "      <td>I dont know if sauve discontinued this line, b...</td>\n",
       "      <td>B0185LCXKA</td>\n",
       "      <td>B0185LCXKA</td>\n",
       "      <td>AGQU3SLLI72FLEDMOON2EP7WAN5Q</td>\n",
       "      <td>1543890519281</td>\n",
       "      <td>0</td>\n",
       "      <td>True</td>\n",
       "    </tr>\n",
       "    <tr>\n",
       "      <th>564465</th>\n",
       "      <td>5.0</td>\n",
       "      <td>Five Stars</td>\n",
       "      <td>very pretty bows and good price for them</td>\n",
       "      <td>B00RVNUPXQ</td>\n",
       "      <td>B00RVNUPXQ</td>\n",
       "      <td>AGRPAEACQYPMCQEUGFLYQIKTALTQ</td>\n",
       "      <td>1444833618000</td>\n",
       "      <td>0</td>\n",
       "      <td>True</td>\n",
       "    </tr>\n",
       "    <tr>\n",
       "      <th>36482</th>\n",
       "      <td>2.0</td>\n",
       "      <td>Only good for cornrow install!</td>\n",
       "      <td>I love the way this hair looks. The color and ...</td>\n",
       "      <td>B07H4L1XBY</td>\n",
       "      <td>B07H4L1XBY</td>\n",
       "      <td>AH7GI3HY7NK4INJEPUZBHX43LUHQ</td>\n",
       "      <td>1561653660569</td>\n",
       "      <td>0</td>\n",
       "      <td>True</td>\n",
       "    </tr>\n",
       "  </tbody>\n",
       "</table>\n",
       "</div>"
      ],
      "text/plain": [
       "        rating                                              title  \\\n",
       "472907     5.0  Worth the money- don’t go cheap- for serious u...   \n",
       "255366     5.0                                    Nice eye cream.   \n",
       "412925     5.0                    Keep supplying my hair product.   \n",
       "564465     5.0                                         Five Stars   \n",
       "36482      2.0                     Only good for cornrow install!   \n",
       "\n",
       "                                                     text        asin  \\\n",
       "472907  Love this brush after so many that were not wo...  B075B3M8F4   \n",
       "255366  I'm not seeing my wrinkles evaporate but it so...  B00N996X4G   \n",
       "412925  I dont know if sauve discontinued this line, b...  B0185LCXKA   \n",
       "564465           very pretty bows and good price for them  B00RVNUPXQ   \n",
       "36482   I love the way this hair looks. The color and ...  B07H4L1XBY   \n",
       "\n",
       "       parent_asin                       user_id      timestamp  helpful_vote  \\\n",
       "472907  B075B3M8F4  AFTRHI7BZD35G7ZFDF5HWXV5OPEQ  1582230773060             1   \n",
       "255366  B00N996X4G  AETK7DFLGHKINK5CS5ISOCTHVZPQ  1460144590000             0   \n",
       "412925  B0185LCXKA  AGQU3SLLI72FLEDMOON2EP7WAN5Q  1543890519281             0   \n",
       "564465  B00RVNUPXQ  AGRPAEACQYPMCQEUGFLYQIKTALTQ  1444833618000             0   \n",
       "36482   B07H4L1XBY  AH7GI3HY7NK4INJEPUZBHX43LUHQ  1561653660569             0   \n",
       "\n",
       "        verified_purchase  \n",
       "472907               True  \n",
       "255366               True  \n",
       "412925               True  \n",
       "564465               True  \n",
       "36482                True  "
      ]
     },
     "execution_count": 5,
     "metadata": {},
     "output_type": "execute_result"
    }
   ],
   "source": [
    "# Получаем выборку данных\n",
    "sample_df = loader.get_sample()\n",
    "\n",
    "# Просматриваем первые пять строк выборки\n",
    "sample_df.head()"
   ]
  },
  {
   "cell_type": "code",
   "execution_count": 6,
   "id": "4d7d3ef0-fce8-4cd7-a6b2-11525ab6d6e4",
   "metadata": {},
   "outputs": [
    {
     "name": "stdout",
     "output_type": "stream",
     "text": [
      "Данные уже существуют\n"
     ]
    }
   ],
   "source": [
    "loader.save_sample(output_path, 'csv')"
   ]
  },
  {
   "cell_type": "code",
   "execution_count": 7,
   "id": "2a82a69e-1c4a-4680-8ef7-15db0181df22",
   "metadata": {},
   "outputs": [],
   "source": [
    "dataset = AllBeautyBERTDataset(os.path.join(os.getcwd(), 'sample_size_1000_seed_12_used_True.csv'), 'csv')"
   ]
  },
  {
   "cell_type": "code",
   "execution_count": 8,
   "id": "6ee77114-6463-44ef-a57d-91fc8f9998b5",
   "metadata": {},
   "outputs": [
    {
     "data": {
      "text/plain": [
       "1000"
      ]
     },
     "execution_count": 8,
     "metadata": {},
     "output_type": "execute_result"
    }
   ],
   "source": [
    "len(dataset)"
   ]
  },
  {
   "cell_type": "code",
   "execution_count": 9,
   "id": "d0d0ab97-5079-4007-87c8-4d7d98344829",
   "metadata": {},
   "outputs": [
    {
     "data": {
      "text/plain": [
       "Unnamed: 0                                                      696738\n",
       "rating                                                             3.0\n",
       "title                                                      Three Stars\n",
       "text                 Bit are ok quality but they are NOT CARBIDE TH...\n",
       "asin                                                        B01LE4QJS2\n",
       "parent_asin                                                 B01LE4QJS2\n",
       "user_id                                   AETZHC6HNADDF75I2TSFES5B2K3Q\n",
       "timestamp                                                1497738860179\n",
       "helpful_vote                                                        16\n",
       "verified_purchase                                                 True\n",
       "Name: 12, dtype: object"
      ]
     },
     "execution_count": 9,
     "metadata": {},
     "output_type": "execute_result"
    }
   ],
   "source": [
    "dataset[12]"
   ]
  },
  {
   "cell_type": "code",
   "execution_count": 10,
   "id": "0752bf02-25af-41aa-8aa0-6369e8decf18",
   "metadata": {},
   "outputs": [
    {
     "data": {
      "text/plain": [
       "pandas.core.series.Series"
      ]
     },
     "execution_count": 10,
     "metadata": {},
     "output_type": "execute_result"
    }
   ],
   "source": [
    "type(dataset[12])"
   ]
  }
 ],
 "metadata": {
  "kernelspec": {
   "display_name": "Python 3 (ipykernel)",
   "language": "python",
   "name": "python3"
  },
  "language_info": {
   "codemirror_mode": {
    "name": "ipython",
    "version": 3
   },
   "file_extension": ".py",
   "mimetype": "text/x-python",
   "name": "python",
   "nbconvert_exporter": "python",
   "pygments_lexer": "ipython3",
   "version": "3.10.12"
  }
 },
 "nbformat": 4,
 "nbformat_minor": 5
}
